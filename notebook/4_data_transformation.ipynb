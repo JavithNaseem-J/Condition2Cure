{
 "cells": [
  {
   "cell_type": "code",
   "execution_count": 1,
   "id": "5070d364",
   "metadata": {},
   "outputs": [],
   "source": [
    "import os"
   ]
  },
  {
   "cell_type": "code",
   "execution_count": 2,
   "id": "8d1edcb6",
   "metadata": {},
   "outputs": [
    {
     "data": {
      "text/plain": [
       "'f:\\\\Files\\\\DSML\\\\Condition2Cure\\\\notebook'"
      ]
     },
     "execution_count": 2,
     "metadata": {},
     "output_type": "execute_result"
    }
   ],
   "source": [
    "pwd(\"../\")"
   ]
  },
  {
   "cell_type": "code",
   "execution_count": 3,
   "id": "36353583",
   "metadata": {},
   "outputs": [],
   "source": [
    "os.chdir(\"../\")"
   ]
  },
  {
   "cell_type": "code",
   "execution_count": 4,
   "id": "2e05ef5b",
   "metadata": {},
   "outputs": [
    {
     "data": {
      "text/plain": [
       "'f:\\\\Files\\\\DSML\\\\Condition2Cure'"
      ]
     },
     "execution_count": 4,
     "metadata": {},
     "output_type": "execute_result"
    }
   ],
   "source": [
    "pwd(\"../\")"
   ]
  },
  {
   "cell_type": "code",
   "execution_count": 5,
   "id": "37aac898",
   "metadata": {},
   "outputs": [],
   "source": [
    "from pathlib import Path\n",
    "from dataclasses import dataclass"
   ]
  },
  {
   "cell_type": "code",
   "execution_count": 6,
   "id": "d4288a52",
   "metadata": {},
   "outputs": [],
   "source": [
    "from Condition2Cure.utils.helpers import *\n",
    "from Condition2Cure.constants import *\n",
    "from Condition2Cure.utils.execptions import *"
   ]
  },
  {
   "cell_type": "code",
   "execution_count": 7,
   "id": "e6f39514",
   "metadata": {},
   "outputs": [],
   "source": [
    "@dataclass\n",
    "class DataTransformationConfig:\n",
    "    root_dir: Path\n",
    "    cleaned_data_path: str\n",
    "    target_column: str\n",
    "    max_features: int\n",
    "    ngram_range: tuple\n",
    "    svd_components: int\n",
    "    features_path: str\n",
    "    labels_path: str\n",
    "    vectorizer_path: str\n",
    "    svd_path: str\n",
    "    label_encoder_path: str"
   ]
  },
  {
   "cell_type": "code",
   "execution_count": 8,
   "id": "14d9ae46",
   "metadata": {},
   "outputs": [],
   "source": [
    "class ConfigurationManager:\n",
    "    def __init__(\n",
    "        self,\n",
    "        config_filepath = CONFIG_FILE_PATH,\n",
    "        params_filepath = PARAMS_FILE_PATH,\n",
    "        schema_filepath = SCHEMA_FILE_PATH):\n",
    "\n",
    "        self.config = read_yaml(config_filepath)\n",
    "        self.params = read_yaml(params_filepath)\n",
    "        self.schema = read_yaml(schema_filepath)\n",
    "\n",
    "        create_directories([self.config.artifacts_root])\n",
    "\n",
    "    def get_data_transformation_config(self) -> DataTransformationConfig:\n",
    "        config = self.config.feature_engineering\n",
    "        params = self.params.vectorizer\n",
    "        schema = self.schema.target_column\n",
    "\n",
    "        create_directories([config.root_dir])\n",
    "\n",
    "        data_transformation_config =  DataTransformationConfig(\n",
    "            root_dir=config.root_dir,\n",
    "            cleaned_data_path=config.cleaned_data_path,\n",
    "            vectorizer_path=config.vectorizer_path,\n",
    "            features_path=config.features_path,\n",
    "            labels_path=config.labels_path,\n",
    "            label_encoder_path=config.label_encoder_path,\n",
    "            target_column=schema.name,\n",
    "            max_features=params.max_features,\n",
    "            ngram_range=params.ngram_range,\n",
    "            svd_path=config.svd_path,\n",
    "            svd_components=params.svd_components\n",
    "        )\n",
    "\n",
    "        return data_transformation_config\n"
   ]
  },
  {
   "cell_type": "code",
   "execution_count": 9,
   "id": "c185fc61",
   "metadata": {},
   "outputs": [],
   "source": [
    "import os\n",
    "import pandas as pd\n",
    "import numpy as np\n",
    "import joblib\n",
    "from sklearn.feature_extraction.text import TfidfVectorizer\n",
    "from sklearn.decomposition import TruncatedSVD\n",
    "from sklearn.preprocessing import LabelEncoder\n",
    "from Condition2Cure.utils.helpers import create_directories\n",
    "from Condition2Cure import logger\n",
    "\n",
    "class DataTransformation:\n",
    "    def __init__(self, config: DataTransformationConfig):\n",
    "        self.config = config\n",
    "\n",
    "    def transform(self):\n",
    "        logger.info(\"Loading cleaned data...\")\n",
    "        df = pd.read_csv(self.config.cleaned_data_path)\n",
    "\n",
    "        if 'clean_review' not in df.columns or self.config.target_column not in df.columns:\n",
    "            raise ValueError(\"Required columns missing in cleaned data.\")\n",
    "\n",
    "        df['clean_review'] = df['clean_review'].fillna(\"\")\n",
    "\n",
    "        logger.info(\"Fitting TF-IDF vectorizer...\")\n",
    "        vectorizer = TfidfVectorizer(\n",
    "            max_features=self.config.max_features,\n",
    "            ngram_range=tuple(self.config.ngram_range)\n",
    "        )\n",
    "        X_tfidf = vectorizer.fit_transform(df['clean_review'])\n",
    "\n",
    "        logger.info(\"Reducing dimensionality using TruncatedSVD...\")\n",
    "        svd = TruncatedSVD(n_components=self.config.svd_components)\n",
    "        X_reduced = svd.fit_transform(X_tfidf)\n",
    "\n",
    "        logger.info(\"Encoding labels...\")\n",
    "        label_encoder = LabelEncoder()\n",
    "        y = label_encoder.fit_transform(df[self.config.target_column])\n",
    "\n",
    "        logger.info(\"Saving vectorizer, SVD, label encoder...\")\n",
    "        create_directories([os.path.dirname(self.config.vectorizer_path)])\n",
    "        joblib.dump(vectorizer, self.config.vectorizer_path)\n",
    "        joblib.dump(svd, self.config.svd_path)\n",
    "        joblib.dump(label_encoder, self.config.label_encoder_path)\n",
    "\n",
    "        logger.info(\"Saving features and labels...\")\n",
    "        np.save(self.config.features_path, X_reduced)\n",
    "        np.save(self.config.labels_path, y)\n",
    "\n",
    "        logger.info(\"Data transformation complete.\")"
   ]
  },
  {
   "cell_type": "code",
   "execution_count": 10,
   "id": "99aba21a",
   "metadata": {},
   "outputs": [
    {
     "name": "stdout",
     "output_type": "stream",
     "text": [
      "[2025-06-21 16:17:10,450: INFO: helpers: yaml file: config\\config.yaml loaded successfully]\n",
      "[2025-06-21 16:17:10,450: INFO: helpers: yaml file: config\\params.yaml loaded successfully]\n",
      "[2025-06-21 16:17:10,472: INFO: helpers: yaml file: config\\schema.yaml loaded successfully]\n",
      "[2025-06-21 16:17:10,477: INFO: helpers: created directory at: artifacts]\n",
      "[2025-06-21 16:17:10,480: INFO: helpers: created directory at: artifacts/feature_engineering]\n",
      "[2025-06-21 16:17:10,482: INFO: 837293412: Loading cleaned data...]\n",
      "[2025-06-21 16:17:11,294: INFO: 837293412: Fitting TF-IDF vectorizer...]\n",
      "[2025-06-21 16:17:19,906: INFO: 837293412: Reducing dimensionality using TruncatedSVD...]\n",
      "[2025-06-21 16:17:56,042: INFO: 837293412: Encoding labels...]\n",
      "[2025-06-21 16:17:56,089: INFO: 837293412: Saving vectorizer, SVD, label encoder...]\n",
      "[2025-06-21 16:17:56,089: INFO: helpers: created directory at: artifacts/feature_engineering]\n",
      "[2025-06-21 16:17:56,775: INFO: 837293412: Saving features and labels...]\n",
      "[2025-06-21 16:17:56,992: INFO: 837293412: Data transformation complete.]\n"
     ]
    }
   ],
   "source": [
    "try:\n",
    "    config = ConfigurationManager()\n",
    "    data_transformation_config = config.get_data_transformation_config()\n",
    "    feature_engineering = DataTransformation(config=data_transformation_config)\n",
    "    feature_engineering.transform()\n",
    "except Exception as e:\n",
    "    raise CustomException(str(e), sys) "
   ]
  }
 ],
 "metadata": {
  "kernelspec": {
   "display_name": "Condition2Cure",
   "language": "python",
   "name": "python3"
  },
  "language_info": {
   "codemirror_mode": {
    "name": "ipython",
    "version": 3
   },
   "file_extension": ".py",
   "mimetype": "text/x-python",
   "name": "python",
   "nbconvert_exporter": "python",
   "pygments_lexer": "ipython3",
   "version": "3.10.18"
  }
 },
 "nbformat": 4,
 "nbformat_minor": 5
}

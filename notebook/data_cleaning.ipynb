{
 "cells": [
  {
   "cell_type": "code",
   "execution_count": 1,
   "id": "879b8800",
   "metadata": {},
   "outputs": [],
   "source": [
    "import os"
   ]
  },
  {
   "cell_type": "code",
   "execution_count": 2,
   "id": "ee80e216",
   "metadata": {},
   "outputs": [
    {
     "data": {
      "text/plain": [
       "'f:\\\\Files\\\\DSML\\\\Condition2Cure\\\\notebook'"
      ]
     },
     "execution_count": 2,
     "metadata": {},
     "output_type": "execute_result"
    }
   ],
   "source": [
    "pwd(\"../\")"
   ]
  },
  {
   "cell_type": "code",
   "execution_count": 3,
   "id": "e0859fcb",
   "metadata": {},
   "outputs": [],
   "source": [
    "os.chdir(\"../\")"
   ]
  },
  {
   "cell_type": "code",
   "execution_count": 4,
   "id": "f4a9028b",
   "metadata": {},
   "outputs": [
    {
     "data": {
      "text/plain": [
       "'f:\\\\Files\\\\DSML\\\\Condition2Cure'"
      ]
     },
     "execution_count": 4,
     "metadata": {},
     "output_type": "execute_result"
    }
   ],
   "source": [
    "pwd(\"../\")"
   ]
  },
  {
   "cell_type": "code",
   "execution_count": 5,
   "id": "ea74d8d6",
   "metadata": {},
   "outputs": [],
   "source": [
    "from pathlib import Path\n",
    "from dataclasses import dataclass"
   ]
  },
  {
   "cell_type": "code",
   "execution_count": 6,
   "id": "6ecd71da",
   "metadata": {},
   "outputs": [],
   "source": [
    "from Condition2Cure.constants import *\n",
    "from Condition2Cure.utils.helpers import *\n",
    "from Condition2Cure.utils.execptions import CustomException"
   ]
  },
  {
   "cell_type": "code",
   "execution_count": 7,
   "id": "46a7322f",
   "metadata": {},
   "outputs": [],
   "source": [
    "@dataclass(frozen=True)\n",
    "class DataCleaningConfig:\n",
    "    root_dir: Path\n",
    "    data_path: Path\n",
    "    cleaned_data_path: Path"
   ]
  },
  {
   "cell_type": "code",
   "execution_count": 8,
   "id": "083f36cf",
   "metadata": {},
   "outputs": [],
   "source": [
    "class ConfigurationManager:\n",
    "    def __init__(\n",
    "        self,\n",
    "        config_filepath = CONFIG_FILE_PATH,\n",
    "        params_filepath = PARAMS_FILE_PATH,\n",
    "        schema_filepath = SCHEMA_FILE_PATH):\n",
    "\n",
    "        self.config = read_yaml(config_filepath)\n",
    "        self.params = read_yaml(params_filepath)\n",
    "        self.schema = read_yaml(schema_filepath)\n",
    "\n",
    "        create_directories([self.config.artifacts_root])\n",
    "\n",
    "    def get_data_cleaning_config(self) -> DataCleaningConfig:\n",
    "        config = self.config.data_cleaning\n",
    "        create_directories([config.root_dir])\n",
    "        \n",
    "        data_cleaning_config =  DataCleaningConfig(\n",
    "            root_dir=config.root_dir,\n",
    "            data_path=config.data_path,\n",
    "            cleaned_data_path=config.cleaned_data_path\n",
    "        )\n",
    "\n",
    "        return data_cleaning_config\n"
   ]
  },
  {
   "cell_type": "code",
   "execution_count": 9,
   "id": "d7753d0d",
   "metadata": {},
   "outputs": [
    {
     "name": "stderr",
     "output_type": "stream",
     "text": [
      "[nltk_data] Downloading package stopwords to C:\\Users\\Javith\n",
      "[nltk_data]     Naseem\\AppData\\Roaming\\nltk_data...\n",
      "[nltk_data]   Package stopwords is already up-to-date!\n",
      "[nltk_data] Downloading package wordnet to C:\\Users\\Javith\n",
      "[nltk_data]     Naseem\\AppData\\Roaming\\nltk_data...\n",
      "[nltk_data]   Package wordnet is already up-to-date!\n"
     ]
    }
   ],
   "source": [
    "import os\n",
    "import pandas as pd\n",
    "from Condition2Cure.utils.helpers import create_directories\n",
    "from Condition2Cure.entities.config_entity import DataCleaningConfig\n",
    "from Condition2Cure.utils.nlp_utils import clean_text\n",
    "from Condition2Cure import logger\n",
    "\n",
    "\n",
    "class DataCleaning:\n",
    "    def __init__(self, config: DataCleaningConfig):\n",
    "        self.config = config\n",
    "\n",
    "    def clean(self):\n",
    "        logger.info(\"Reading raw data...\")\n",
    "        data = pd.read_csv(self.config.data_path)\n",
    "\n",
    "        df = data[(data['condition'] == 'Birth Control') | (data['condition'] == 'Depression') | (data['condition'] == 'Pain') | (data['condition'] == 'Anxiety') | (data['condition'] == 'Acne') | (data['condition'] == 'Diabetes, Type 2') | (data['condition'] == 'High Blood Pressure')]\n",
    "\n",
    "        if 'review' not in df.columns or 'condition' not in df.columns:\n",
    "            raise ValueError(\"Input data must contain 'review' and 'condition' columns.\")\n",
    "\n",
    "        logger.info(\"Cleaning review texts...\")\n",
    "        df['clean_review'] = df['review'].astype(str).apply(clean_text)\n",
    "\n",
    "        df.dropna(subset=['clean_review', 'condition'], inplace=True)\n",
    "\n",
    "        create_directories([os.path.dirname(self.config.cleaned_data_path)])\n",
    "        df.to_csv(self.config.cleaned_data_path, index=False, na_rep=\"\")\n",
    "\n",
    "        logger.info(f\"Cleaned data saved at: {self.config.cleaned_data_path}\")"
   ]
  },
  {
   "cell_type": "code",
   "execution_count": 10,
   "id": "50e5ba48",
   "metadata": {},
   "outputs": [
    {
     "name": "stdout",
     "output_type": "stream",
     "text": [
      "[2025-06-21 16:02:33,279: INFO: helpers: yaml file: config\\config.yaml loaded successfully]\n",
      "[2025-06-21 16:02:33,282: INFO: helpers: yaml file: config\\params.yaml loaded successfully]\n",
      "[2025-06-21 16:02:33,287: INFO: helpers: yaml file: config\\schema.yaml loaded successfully]\n",
      "[2025-06-21 16:02:33,289: INFO: helpers: created directory at: artifacts]\n",
      "[2025-06-21 16:02:33,290: INFO: helpers: created directory at: artifacts/data_cleaning]\n",
      "[2025-06-21 16:02:33,292: INFO: 354709159: Reading raw data...]\n"
     ]
    },
    {
     "name": "stdout",
     "output_type": "stream",
     "text": [
      "[2025-06-21 16:02:34,623: INFO: 354709159: Cleaning review texts...]\n",
      "[2025-06-21 16:02:55,923: INFO: helpers: created directory at: artifacts/data_cleaning]\n"
     ]
    },
    {
     "name": "stderr",
     "output_type": "stream",
     "text": [
      "C:\\Users\\Javith Naseem\\AppData\\Local\\Temp\\ipykernel_17572\\354709159.py:23: SettingWithCopyWarning: \n",
      "A value is trying to be set on a copy of a slice from a DataFrame.\n",
      "Try using .loc[row_indexer,col_indexer] = value instead\n",
      "\n",
      "See the caveats in the documentation: https://pandas.pydata.org/pandas-docs/stable/user_guide/indexing.html#returning-a-view-versus-a-copy\n",
      "  df['clean_review'] = df['review'].astype(str).apply(clean_text)\n",
      "C:\\Users\\Javith Naseem\\AppData\\Local\\Temp\\ipykernel_17572\\354709159.py:25: SettingWithCopyWarning: \n",
      "A value is trying to be set on a copy of a slice from a DataFrame\n",
      "\n",
      "See the caveats in the documentation: https://pandas.pydata.org/pandas-docs/stable/user_guide/indexing.html#returning-a-view-versus-a-copy\n",
      "  df.dropna(subset=['clean_review', 'condition'], inplace=True)\n"
     ]
    },
    {
     "name": "stdout",
     "output_type": "stream",
     "text": [
      "[2025-06-21 16:02:57,421: INFO: 354709159: Cleaned data saved at: artifacts/data_cleaning/cleaned.csv]\n"
     ]
    }
   ],
   "source": [
    "try:\n",
    "    config = ConfigurationManager()\n",
    "    data_cleaning_config = config.get_data_cleaning_config()\n",
    "    data_cleaning = DataCleaning(config=data_cleaning_config)\n",
    "    data_cleaning = data_cleaning.clean()\n",
    "\n",
    "except Exception as e:\n",
    "    raise CustomException(str(e))"
   ]
  },
  {
   "cell_type": "code",
   "execution_count": null,
   "id": "74cb45f6",
   "metadata": {},
   "outputs": [],
   "source": []
  }
 ],
 "metadata": {
  "kernelspec": {
   "display_name": "Condition2Cure",
   "language": "python",
   "name": "python3"
  },
  "language_info": {
   "codemirror_mode": {
    "name": "ipython",
    "version": 3
   },
   "file_extension": ".py",
   "mimetype": "text/x-python",
   "name": "python",
   "nbconvert_exporter": "python",
   "pygments_lexer": "ipython3",
   "version": "3.10.18"
  }
 },
 "nbformat": 4,
 "nbformat_minor": 5
}

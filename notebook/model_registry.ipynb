{
 "cells": [
  {
   "cell_type": "code",
   "execution_count": 1,
   "id": "a69594ca",
   "metadata": {},
   "outputs": [],
   "source": [
    "import os"
   ]
  },
  {
   "cell_type": "code",
   "execution_count": 2,
   "id": "61c976f1",
   "metadata": {},
   "outputs": [],
   "source": [
    "os.chdir(\"../\")"
   ]
  },
  {
   "cell_type": "code",
   "execution_count": 3,
   "id": "bae54a20",
   "metadata": {},
   "outputs": [],
   "source": [
    "from dataclasses import dataclass\n",
    "from pathlib import Path"
   ]
  },
  {
   "cell_type": "code",
   "execution_count": 4,
   "id": "773b14d7",
   "metadata": {},
   "outputs": [],
   "source": [
    "from Condition2Cure.utils.helpers import *\n",
    "from Condition2Cure.constants import *\n",
    "from Condition2Cure.utils.execptions import *"
   ]
  },
  {
   "cell_type": "code",
   "execution_count": 5,
   "id": "b19ea861",
   "metadata": {},
   "outputs": [],
   "source": [
    "@dataclass(frozen=True)\n",
    "class ModelRegistryConfig:\n",
    "    model_name: str\n",
    "    metric_path: Path\n",
    "    metric_key: str"
   ]
  },
  {
   "cell_type": "code",
   "execution_count": null,
   "id": "d6acade7",
   "metadata": {},
   "outputs": [],
   "source": [
    "class ConfigurationManager:\n",
    "    def __init__(\n",
    "        self,\n",
    "        config_filepath = CONFIG_FILE_PATH,\n",
    "        params_filepath = PARAMS_FILE_PATH,\n",
    "        schema_filepath = SCHEMA_FILE_PATH):\n",
    "\n",
    "        self.config = read_yaml(config_filepath)\n",
    "        self.params = read_yaml(params_filepath)\n",
    "        self.schema = read_yaml(schema_filepath)\n",
    "\n",
    "        create_directories([self.config.artifacts_root])\n",
    "\n",
    "    def get_model_registry_config(self) -> ModelRegistryConfig:\n",
    "        config = self.config.model_registry\n",
    "\n",
    "\n",
    "        model_registry_config =  ModelRegistryConfig(\n",
    "            model_name=config.model_name,\n",
    "            metric_path=config.metric_path,\n",
    "            metric_key=config.metric_key\n",
    "        )\n",
    "\n",
    "        return model_registry_config"
   ]
  },
  {
   "cell_type": "code",
   "execution_count": null,
   "id": "749d29aa",
   "metadata": {},
   "outputs": [],
   "source": [
    "import json\n",
    "from pathlib import Path\n",
    "import mlflow\n",
    "from mlflow.tracking import MlflowClient\n",
    "from Condition2Cure import logger\n",
    "\n",
    "class ModelRegistry:\n",
    "    def __init__(self, config: ModelRegistryConfig):\n",
    "        self.config = config\n",
    "        self.client = MlflowClient()\n",
    "\n",
    "    def load_metric(self) -> float:\n",
    "        with open(self.config.metric_path, \"r\") as f:\n",
    "            metrics = json.load(f)\n",
    "        return float(metrics.get(self.config.metric_key))\n",
    "\n",
    "    def get_latest_model_by_stage(self, stage: str):\n",
    "        versions = self.client.get_latest_versions(name=self.config.model_name, stages=[stage])\n",
    "        return versions[0] if versions else None\n",
    "\n",
    "    def promote_model(self, version):\n",
    "        self.client.transition_model_version_stage(\n",
    "            name=self.config.model_name,\n",
    "            version=version,\n",
    "            stage=\"Production\",\n",
    "            archive_existing_versions=True\n",
    "        )\n",
    "        logger.info(f\"Promoted version {version} to Production.\")\n",
    "\n",
    "    def registry(self):\n",
    "        logger.info(\"Running model registry promotion check...\")\n",
    "        new_score = self.load_metric()\n",
    "        staging_model = self.get_latest_model_by_stage(\"Staging\")\n",
    "        if not staging_model:\n",
    "            logger.warning(\"No staging model found.\")\n",
    "            return\n",
    "\n",
    "        prod_model = self.get_latest_model_by_stage(\"Production\")\n",
    "        prod_score = None\n",
    "        if prod_model:\n",
    "            run_id = prod_model.run_id\n",
    "            prod_metrics = self.client.get_run(run_id).data.metrics\n",
    "            prod_score = float(prod_metrics.get(self.config.metric_key, 0))\n",
    "\n",
    "        logger.info(f\"Staging {self.config.metric_key}: {new_score}\")\n",
    "        logger.info(f\"Production {self.config.metric_key}: {prod_score}\")\n",
    "\n",
    "        if prod_score is None or new_score > prod_score:\n",
    "            self.promote_model(staging_model.version)\n",
    "        else:\n",
    "            logger.info(\"No promotion. Staging model is not better than Production.\")"
   ]
  },
  {
   "cell_type": "code",
   "execution_count": null,
   "id": "534be49d",
   "metadata": {},
   "outputs": [
    {
     "name": "stdout",
     "output_type": "stream",
     "text": [
      "[2025-06-22 15:51:09,670: INFO: helpers: yaml file: config\\config.yaml loaded successfully]\n",
      "[2025-06-22 15:51:09,676: INFO: helpers: yaml file: config\\params.yaml loaded successfully]\n",
      "[2025-06-22 15:51:09,676: INFO: helpers: yaml file: config\\schema.yaml loaded successfully]\n",
      "[2025-06-22 15:51:09,676: INFO: helpers: created directory at: artifacts]\n",
      "[2025-06-22 15:51:09,712: INFO: 1259520673: 🚀 Running model registry promotion check...]\n"
     ]
    },
    {
     "name": "stderr",
     "output_type": "stream",
     "text": [
      "C:\\Users\\Javith Naseem\\AppData\\Local\\Temp\\ipykernel_18344\\1259520673.py:18: FutureWarning: ``mlflow.tracking.client.MlflowClient.get_latest_versions`` is deprecated since 2.9.0. Model registry stages will be removed in a future major release. To learn more about the deprecation of model registry stages, see our migration guide here: https://mlflow.org/docs/latest/model-registry.html#migrating-from-stages\n",
      "  versions = self.client.get_latest_versions(name=self.config.model_name, stages=[stage])\n"
     ]
    },
    {
     "name": "stdout",
     "output_type": "stream",
     "text": [
      "[2025-06-22 15:51:09,963: WARNING: 1259520673: No staging model found.]\n"
     ]
    }
   ],
   "source": [
    "try:\n",
    "    config = ConfigurationManager()\n",
    "    model_registry_config = config.get_model_registry_config()\n",
    "    registry = ModelRegistry(config=model_registry_config)\n",
    "    registry.registry()\n",
    "except Exception as e:\n",
    "    raise CustomException(e, sys) from e"
   ]
  }
 ],
 "metadata": {
  "kernelspec": {
   "display_name": "Condition2Cure",
   "language": "python",
   "name": "python3"
  },
  "language_info": {
   "codemirror_mode": {
    "name": "ipython",
    "version": 3
   },
   "file_extension": ".py",
   "mimetype": "text/x-python",
   "name": "python",
   "nbconvert_exporter": "python",
   "pygments_lexer": "ipython3",
   "version": "3.10.18"
  }
 },
 "nbformat": 4,
 "nbformat_minor": 5
}

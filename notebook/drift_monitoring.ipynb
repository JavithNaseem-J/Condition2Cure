{
 "cells": [
  {
   "cell_type": "code",
   "execution_count": 1,
   "id": "b8c9eb88",
   "metadata": {},
   "outputs": [],
   "source": [
    "import os"
   ]
  },
  {
   "cell_type": "code",
   "execution_count": 2,
   "id": "955d068f",
   "metadata": {},
   "outputs": [],
   "source": [
    "os.chdir(\"../\")"
   ]
  },
  {
   "cell_type": "code",
   "execution_count": 3,
   "id": "8159833d",
   "metadata": {},
   "outputs": [
    {
     "data": {
      "text/plain": [
       "'f:\\\\Files\\\\DSML\\\\Condition2Cure'"
      ]
     },
     "execution_count": 3,
     "metadata": {},
     "output_type": "execute_result"
    }
   ],
   "source": [
    "pwd(\"../\")"
   ]
  },
  {
   "cell_type": "code",
   "execution_count": 4,
   "id": "cdd4d514",
   "metadata": {},
   "outputs": [],
   "source": [
    "from dataclasses import dataclass\n",
    "from pathlib import Path\n",
    "\n",
    "@dataclass(frozen=True)\n",
    "class DriftMonitoringConfig:\n",
    "    reference_data: Path\n",
    "    current_data: Path\n",
    "    output_dir: Path"
   ]
  },
  {
   "cell_type": "code",
   "execution_count": 5,
   "id": "03c4cd4f",
   "metadata": {},
   "outputs": [],
   "source": [
    "from Condition2Cure.utils.helpers import *\n",
    "from Condition2Cure.constants import *\n",
    "from Condition2Cure.utils.execptions import *"
   ]
  },
  {
   "cell_type": "code",
   "execution_count": 6,
   "id": "cdd50ce7",
   "metadata": {},
   "outputs": [],
   "source": [
    "class ConfigurationManager:\n",
    "    def __init__(\n",
    "        self,\n",
    "        config_filepath = CONFIG_FILE_PATH,\n",
    "        params_filepath = PARAMS_FILE_PATH,\n",
    "        schema_filepath = SCHEMA_FILE_PATH):\n",
    "\n",
    "        self.config = read_yaml(config_filepath)\n",
    "        self.params = read_yaml(params_filepath)\n",
    "        self.schema = read_yaml(schema_filepath)\n",
    "\n",
    "        create_directories([self.config.artifacts_root])\n",
    "\n",
    "    def get_drift_monitoring_config(self) -> DriftMonitoringConfig:\n",
    "        config = self.config.monitoring\n",
    "        drift_monitoring_config = DriftMonitoringConfig(\n",
    "            reference_data=Path(config.reference_data),\n",
    "            current_data=Path(config.current_data),\n",
    "            output_dir=Path(config.output_dir)\n",
    "        )\n",
    "    \n",
    "        return drift_monitoring_config"
   ]
  },
  {
   "cell_type": "code",
   "execution_count": null,
   "id": "42fd9d44",
   "metadata": {},
   "outputs": [],
   "source": [
    "import pandas as pd\n",
    "from pathlib import Path\n",
    "from evidently.report import Report\n",
    "from evidently.metric_preset import DataDriftPreset\n",
    "from Condition2Cure.utils.helpers import create_directories\n",
    "from Condition2Cure import logger\n",
    "\n",
    "\n",
    "class DriftMonitor:\n",
    "    def __init__(self, config: DriftMonitoringConfig):\n",
    "        self.config = config\n",
    "\n",
    "    def monitoring(self):\n",
    "        logger.info(\"Running drift monitoring...\")\n",
    "\n",
    "        ref_path = Path(self.config.reference_data)\n",
    "        curr_path = Path(self.config.current_data)\n",
    "        output_dir = Path(self.config.output_dir)\n",
    "\n",
    "        # Load data\n",
    "        reference_data = pd.read_csv(ref_path)\n",
    "        current_data = pd.read_csv(curr_path)\n",
    "\n",
    "        # Generate Evidently Report\n",
    "        report = Report(metrics=[DataDriftPreset()])\n",
    "        report.run(reference_data=reference_data, current_data=current_data)\n",
    "\n",
    "        # Save reports\n",
    "        create_directories([output_dir])\n",
    "\n",
    "        report_path_html = output_dir / \"drift_report.html\"\n",
    "        report_path_json = output_dir / \"drift_report.json\"\n",
    "\n",
    "        report.save_html(str(report_path_html))\n",
    "        report.save_json(str(report_path_json))\n",
    "\n",
    "\n",
    "        logger.info(f\"Drift report saved to: {report_path_html}\")\n",
    "        logger.info(f\"Drift report (JSON) saved to: {report_path_json}\")\n"
   ]
  },
  {
   "cell_type": "code",
   "execution_count": null,
   "id": "a18df2f7",
   "metadata": {},
   "outputs": [
    {
     "name": "stdout",
     "output_type": "stream",
     "text": [
      "[2025-06-22 12:12:31,188: INFO: helpers: yaml file: config\\config.yaml loaded successfully]\n",
      "[2025-06-22 12:12:31,188: INFO: helpers: yaml file: config\\params.yaml loaded successfully]\n",
      "[2025-06-22 12:12:31,188: INFO: helpers: yaml file: config\\schema.yaml loaded successfully]\n",
      "[2025-06-22 12:12:31,188: INFO: helpers: created directory at: artifacts]\n",
      "[2025-06-22 12:12:31,188: INFO: 1951226506: Running drift monitoring...]\n",
      "[2025-06-22 12:12:39,989: INFO: helpers: created directory at: artifacts\\monitoring]\n",
      "[2025-06-22 12:12:46,288: INFO: 1951226506: Drift report saved to: artifacts\\monitoring\\drift_report.html]\n",
      "[2025-06-22 12:12:46,288: INFO: 1951226506: Drift report (JSON) saved to: artifacts\\monitoring\\drift_report.json]\n"
     ]
    }
   ],
   "source": [
    "try:\n",
    "    config = ConfigurationManager()\n",
    "    drift_monitoring_config = config.get_drift_monitoring_config()\n",
    "    monitor = DriftMonitor(config=drift_monitoring_config)\n",
    "    monitor.monitoring()\n",
    "except Exception as e:\n",
    "    raise CustomException(str(e), sys)"
   ]
  },
  {
   "cell_type": "code",
   "execution_count": null,
   "id": "a68670dd",
   "metadata": {},
   "outputs": [],
   "source": []
  }
 ],
 "metadata": {
  "kernelspec": {
   "display_name": "Condition2Cure",
   "language": "python",
   "name": "python3"
  },
  "language_info": {
   "codemirror_mode": {
    "name": "ipython",
    "version": 3
   },
   "file_extension": ".py",
   "mimetype": "text/x-python",
   "name": "python",
   "nbconvert_exporter": "python",
   "pygments_lexer": "ipython3",
   "version": "3.10.18"
  }
 },
 "nbformat": 4,
 "nbformat_minor": 5
}
